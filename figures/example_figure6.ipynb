{
 "cells": [
  {
   "cell_type": "code",
   "execution_count": 6,
   "metadata": {},
   "outputs": [],
   "source": [
    "# If you'd like to use GPU, please uncomment the following lines\n",
    "# %set_env CUDA_VISIBLE_DEVICES=0\n",
    "# %load_ext cudf.pandas\n",
    "import pandas as pd\n",
    "from unibench.benchmarks_zoo.registry import list_benchmarks\n",
    "from unibench.models_zoo.registry import list_models\n",
    "from unibench.output import OutputHandler\n",
    "import seaborn as sns\n",
    "import matplotlib.pyplot as plt\n",
    "from unibench.common_utils.utils import get_model_mappings, get_benchmark_mappings\n",
    "\n",
    "models = [list_models(\"all\")[1]]\n",
    "datasets = list_benchmarks(\"all\")\n",
    "outputhandler = OutputHandler(output_dir=\"/fsx-robust/haideraltahan/outputs\")"
   ]
  },
  {
   "cell_type": "code",
   "execution_count": 7,
   "metadata": {},
   "outputs": [],
   "source": [
    "outputhandler.load_all_csvs(\n",
    "    model_names=models,\n",
    ")\n",
    "results = outputhandler.query(**{\"benchmark_name\": datasets, \"model_name\": models})"
   ]
  },
  {
   "cell_type": "code",
   "execution_count": 8,
   "metadata": {},
   "outputs": [
    {
     "name": "stdout",
     "output_type": "stream",
     "text": [
      "5975105\n"
     ]
    }
   ],
   "source": [
    "print(len(results))"
   ]
  }
 ],
 "metadata": {
  "kernelspec": {
   "display_name": "Python 3 (ipykernel)",
   "language": "python",
   "name": "python3"
  },
  "language_info": {
   "codemirror_mode": {
    "name": "ipython",
    "version": 3
   },
   "file_extension": ".py",
   "mimetype": "text/x-python",
   "name": "python",
   "nbconvert_exporter": "python",
   "pygments_lexer": "ipython3",
   "version": "3.11.7"
  }
 },
 "nbformat": 4,
 "nbformat_minor": 2
}
